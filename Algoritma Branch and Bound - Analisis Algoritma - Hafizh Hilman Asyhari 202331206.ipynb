{
 "cells": [
  {
   "cell_type": "markdown",
   "id": "a9ef206e-d1d4-450c-99b6-cdcdf3a9b4ea",
   "metadata": {},
   "source": [
    "### ALGORITMA BRANCH AND BOUND\n",
    "##### Nama : Hafizh Hilman Asyhari\n",
    "##### NIM : 202331206\n",
    "##### Tahun : 2025"
   ]
  },
  {
   "cell_type": "code",
   "execution_count": 10,
   "id": "de1318a2-bf0e-4389-ae2f-deb7a2de31ec",
   "metadata": {},
   "outputs": [],
   "source": [
    "import heapq\n",
    "import matplotlib.pyplot as plt\n",
    "import networkx as nx\n",
    "import time\n",
    "import logging\n",
    "from IPython.display import clear_output, display\n",
    "import ipywidgets as widgets\n",
    "import threading\n",
    "import numpy as np\n",
    "\n",
    "logging.basicConfig(level=logging.INFO, format='%(message)s')"
   ]
  },
  {
   "cell_type": "code",
   "execution_count": 11,
   "id": "2d742567-ac7b-427c-9b43-4da126b0d0c4",
   "metadata": {},
   "outputs": [],
   "source": [
    "class Node:\n",
    "    def __init__(self, level, path, cost, bound):\n",
    "        self.level = level\n",
    "        self.path = path\n",
    "        self.cost = cost\n",
    "        self.bound = bound\n",
    "\n",
    "    def __lt__(self, other):\n",
    "        return self.bound < other.bound"
   ]
  },
  {
   "cell_type": "code",
   "execution_count": 3,
   "id": "baede160-cd4c-4e81-9abf-00047ce914bd",
   "metadata": {},
   "outputs": [],
   "source": [
    "def calculate_bound(path, dist_matrix):\n",
    "    n = len(dist_matrix)\n",
    "    bound = 0\n",
    "    visited = set(path)\n",
    "\n",
    "    for i in range(len(path) - 1):\n",
    "        bound += dist_matrix[path[i]][path[i+1]]\n",
    "\n",
    "    last = path[-1]\n",
    "    min_out = float('inf')\n",
    "    for j in range(n):\n",
    "        if j not in visited:\n",
    "            min_out = min(min_out, dist_matrix[last][j])\n",
    "    bound += min_out if min_out != float('inf') else 0\n",
    "\n",
    "    for i in range(n):\n",
    "        if i not in visited:\n",
    "            min_in = float('inf')\n",
    "            for j in range(n):\n",
    "                if j != i and j not in visited:\n",
    "                    min_in = min(min_in, dist_matrix[i][j])\n",
    "            bound += min_in if min_in != float('inf') else 0\n",
    "\n",
    "    return bound"
   ]
  },
  {
   "cell_type": "code",
   "execution_count": 21,
   "id": "d1db775e-a74c-4972-b710-2069fd314fb6",
   "metadata": {},
   "outputs": [],
   "source": [
    "def visualize_graph(path, dist_matrix, step):\n",
    "    G = nx.DiGraph()\n",
    "    labels = {}\n",
    "    n = len(dist_matrix)\n",
    "\n",
    "    for i in range(n):\n",
    "        G.add_node(i)\n",
    "    for i in range(n):\n",
    "        for j in range(n):\n",
    "            if i != j:\n",
    "                G.add_edge(i, j, weight=dist_matrix[i][j])\n",
    "                labels[(i, j)] = dist_matrix[i][j]\n",
    "\n",
    "    pos = nx.circular_layout(G)\n",
    "    plt.figure(figsize=(8, 6))\n",
    "    nx.draw(G, pos, with_labels=True, node_color='lightblue', node_size=800)\n",
    "    nx.draw_networkx_edge_labels(G, pos, edge_labels=labels)\n",
    "    if len(path) > 1:\n",
    "        nx.draw_networkx_edges(G, pos, edgelist=[(path[i], path[i+1]) for i in range(len(path)-1)], width=3, edge_color='r')\n",
    "    plt.title(f\"Langkah #{step}: Jalur Sementara\")\n",
    "    plt.show()"
   ]
  },
  {
   "cell_type": "code",
   "execution_count": 22,
   "id": "4322b7a7-d3ee-428c-81d1-78a4229c1da5",
   "metadata": {},
   "outputs": [],
   "source": [
    "def branch_and_bound_tsp(dist_matrix):\n",
    "    n = len(dist_matrix)\n",
    "    pq = []\n",
    "    step = 0\n",
    "    root = Node(0, [0], 0, calculate_bound([0], dist_matrix))\n",
    "    heapq.heappush(pq, root)\n",
    "\n",
    "    min_cost = float('inf')\n",
    "    best_path = []\n",
    "\n",
    "    while pq:\n",
    "        current = heapq.heappop(pq)\n",
    "        step += 1\n",
    "\n",
    "        logging.info(f\"Langkah {step}: Memeriksa path {current.path} dengan bound = {current.bound}, cost = {current.cost}\")\n",
    "        clear_output(wait=True)\n",
    "        display(widgets.HTML(value=f\"<b>Langkah:</b> {step}, <b>Path:</b> {current.path}, <b>Bound:</b> {current.bound}, <b>Cost:</b> {current.cost}\"))\n",
    "        visualize_graph(current.path, dist_matrix, step)\n",
    "\n",
    "        if current.bound < min_cost:\n",
    "            for i in range(n):\n",
    "                if i not in current.path:\n",
    "                    new_path = current.path + [i]\n",
    "                    new_cost = current.cost + dist_matrix[current.path[-1]][i]\n",
    "                    if len(new_path) == n:\n",
    "                        new_cost += dist_matrix[i][0]\n",
    "                        if new_cost < min_cost:\n",
    "                            min_cost = new_cost\n",
    "                            best_path = new_path + [0]\n",
    "                            logging.info(f\"\\n>> Path baru terbaik ditemukan: {best_path} dengan biaya = {min_cost}\\n\")\n",
    "                    else:\n",
    "                        new_bound = calculate_bound(new_path, dist_matrix)\n",
    "                        if new_bound < min_cost:\n",
    "                            new_node = Node(current.level + 1, new_path, new_cost, new_bound)\n",
    "                            heapq.heappush(pq, new_node)\n",
    "\n",
    "    return best_path, min_cost"
   ]
  },
  {
   "cell_type": "code",
   "execution_count": 23,
   "id": "99aa2553-300f-4172-b499-c8f9493ffa83",
   "metadata": {},
   "outputs": [],
   "source": [
    "# ===========================\n",
    "# Pilihan Input Dinamis\n",
    "# ===========================\n",
    "def run_tsp(option):\n",
    "    if option == 'Default (4 Kota)':\n",
    "        matrix = [\n",
    "            [0, 10, 15, 20],\n",
    "            [10, 0, 35, 25],\n",
    "            [15, 35, 0, 30],\n",
    "            [20, 25, 30, 0]\n",
    "        ]\n",
    "    elif option == 'Kasus 5 Kota':\n",
    "        matrix = [\n",
    "            [0, 3, 1, 5, 8],\n",
    "            [3, 0, 6, 7, 9],\n",
    "            [1, 6, 0, 4, 2],\n",
    "            [5, 7, 4, 0, 3],\n",
    "            [8, 9, 2, 3, 0]\n",
    "        ]\n",
    "    elif option == 'Acak 6 Kota':\n",
    "        rng = np.random.default_rng(0)\n",
    "        random_matrix = rng.integers(1, 20, size=(6, 6))\n",
    "        np.fill_diagonal(random_matrix, 0)\n",
    "        matrix = random_matrix.tolist()\n",
    "\n",
    "    print(\"Nama: Hafizh Hilman Asyhari\")\n",
    "    print(\"Memulai Branch and Bound...\")\n",
    "    start = time.time()\n",
    "    path, cost = branch_and_bound_tsp(matrix)\n",
    "    end = time.time()\n",
    "    print(f\"\\nPath Optimal: {path}\")\n",
    "    print(f\"Total Cost: {cost}\")\n",
    "    print(f\"Waktu Eksekusi: {end - start:.4f} detik\")"
   ]
  },
  {
   "cell_type": "code",
   "execution_count": 15,
   "id": "94b2242c-466f-4286-9b3c-bf5286d372e4",
   "metadata": {},
   "outputs": [],
   "source": [
    "# ===========================\n",
    "# Pilihan Input Dinamis\n",
    "# ===========================\n",
    "def run_tsp(option):\n",
    "    if option == 'Default (4 Kota)':\n",
    "        matrix = [\n",
    "            [0, 10, 15, 20],\n",
    "            [10, 0, 35, 25],\n",
    "            [15, 35, 0, 30],\n",
    "            [20, 25, 30, 0]\n",
    "        ]\n",
    "    elif option == 'Kasus 5 Kota':\n",
    "        matrix = [\n",
    "            [0, 3, 1, 5, 8],\n",
    "            [3, 0, 6, 7, 9],\n",
    "            [1, 6, 0, 4, 2],\n",
    "            [5, 7, 4, 0, 3],\n",
    "            [8, 9, 2, 3, 0]\n",
    "        ]\n",
    "    elif option == 'Acak 6 Kota':\n",
    "        rng = np.random.default_rng(0)\n",
    "        random_matrix = rng.integers(1, 20, size=(6, 6))\n",
    "        np.fill_diagonal(random_matrix, 0)\n",
    "        matrix = random_matrix.tolist()\n",
    "\n",
    "    print(\"Nama: Hafizh Hilman Asyhari\")\n",
    "    print(\"Memulai Branch and Bound...\")\n",
    "    start = time.time()\n",
    "    path, cost = branch_and_bound_tsp(matrix)\n",
    "    end = time.time()\n",
    "    print(f\"\\nPath Optimal: {path}\")\n",
    "    print(f\"Total Cost: {cost}\")\n",
    "    print(f\"Waktu Eksekusi: {end - start:.4f} detik\")"
   ]
  },
  {
   "cell_type": "code",
   "execution_count": 24,
   "id": "cd5aed63-4e76-4e4e-951e-ee64d1ee087b",
   "metadata": {},
   "outputs": [],
   "source": [
    "# Widget untuk memilih kasus\n",
    "options = ['Default (4 Kota)', 'Kasus 5 Kota', 'Acak 6 Kota']\n",
    "dropdown = widgets.Dropdown(options=options, description='Pilih Kasus:')\n",
    "button = widgets.Button(description=\"Jalankan Algoritma\")\n",
    "output = widgets.Output()"
   ]
  },
  {
   "cell_type": "code",
   "execution_count": 9,
   "id": "6643c644-d411-4cb8-a556-aacab9a0a35c",
   "metadata": {},
   "outputs": [
    {
     "data": {
      "image/png": "[encoded data removed]",
      "text/plain": [
       "<Figure size 640x480 with 1 Axes>"
      ]
     },
     "metadata": {},
     "output_type": "display_data"
    }
   ],
   "source": [
    "pos = nx.circular_layout(G)\n",
    "nx.draw(G, pos, with_labels=True, node_color='lightblue', node_size=800)\n",
    "nx.draw_networkx_edge_labels(G, pos, edge_labels=labels)\n",
    "nx.draw_networkx_edges(G, pos, edgelist=[(path[i], path[i+1]) for i in range(len(path)-1)], width=3, edge_color='r')\n",
    "plt.title(\"Visualisasi Jalur Optimal - Branch and Bound\")\n",
    "plt.show()"
   ]
  },
  {
   "cell_type": "code",
   "execution_count": 25,
   "id": "b9fbb57f-ed9f-4322-8e06-2a8a32294bbf",
   "metadata": {},
   "outputs": [
    {
     "data": {
      "application/vnd.jupyter.widget-view+json": {
       "model_id": "2bf363aed2bf4058a18f72a1e3f2ba99",
       "version_major": 2,
       "version_minor": 0
      },
      "text/plain": [
       "VBox(children=(Dropdown(description='Pilih Kasus:', options=('Default (4 Kota)', 'Kasus 5 Kota', 'Acak 6 Kota'…"
      ]
     },
     "metadata": {},
     "output_type": "display_data"
    }
   ],
   "source": [
    "ui = widgets.VBox([dropdown, button, output])\n",
    "display(ui)\n"
   ]
  },
  {
   "cell_type": "code",
   "execution_count": 26,
   "id": "4ef68835-0916-4fe4-8f9e-56a8717f24e7",
   "metadata": {},
   "outputs": [],
   "source": [
    "def on_button_click(b):\n",
    "    output.clear_output()\n",
    "    with output:\n",
    "        run_tsp(dropdown.value)\n"
   ]
  },
  {
   "cell_type": "code",
   "execution_count": 27,
   "id": "8170e579-8466-40c6-ab43-764e1f2115a1",
   "metadata": {},
   "outputs": [],
   "source": [
    "button.on_click(on_button_click)"
   ]
  },
  {
   "cell_type": "code",
   "execution_count": null,
   "id": "f5c8e78e-8cb0-4e23-a702-e8611fb07372",
   "metadata": {},
   "outputs": [],
   "source": []
  }
 ],
 "metadata": {
  "kernelspec": {
   "display_name": "Python 3 (ipykernel)",
   "language": "python",
   "name": "python3"
  },
  "language_info": {
   "codemirror_mode": {
    "name": "ipython",
    "version": 3
   },
   "file_extension": ".py",
   "mimetype": "text/x-python",
   "name": "python",
   "nbconvert_exporter": "python",
   "pygments_lexer": "ipython3",
   "version": "3.12.4"
  }
 },
 "nbformat": 4,
 "nbformat_minor": 5
}
